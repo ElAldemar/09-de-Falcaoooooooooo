{
  "nbformat": 4,
  "nbformat_minor": 0,
  "metadata": {
    "colab": {
      "provenance": []
    },
    "kernelspec": {
      "name": "python3",
      "display_name": "Python 3"
    },
    "language_info": {
      "name": "python"
    }
  },
  "cells": [
    {
      "cell_type": "markdown",
      "source": [
        "# Reto 09\n",
        "1. Desarrollar un algoritmo que calcule el promedio de un arreglo de reales."
      ],
      "metadata": {
        "id": "pNTnRrZw3xXZ"
      }
    },
    {
      "cell_type": "code",
      "execution_count": 1,
      "metadata": {
        "colab": {
          "base_uri": "https://localhost:8080/"
        },
        "id": "W3KPNXgl3mP6",
        "outputId": "21667693-d4e7-4246-8a43-05df81bbfcda"
      },
      "outputs": [
        {
          "output_type": "stream",
          "name": "stdout",
          "text": [
            "[1, 2, 3, 4, 5]\n",
            "El promedio es de: 3.0\n"
          ]
        }
      ],
      "source": [
        "valores = [1, 2, 3, 4, 5] #Arreglo\n",
        "prom = sum(valores) / len(valores)  #Primero se hace la suma, luego la division por numero de elementos del arreglo\n",
        "print(valores) #Imprimir arreglo\n",
        "print(\"El promedio es de:\",prom) #Imprimir promedio"
      ]
    },
    {
      "cell_type": "markdown",
      "source": [
        "2. Desarrollar un algoritmo que calcule el producto punto de dos arreglos de números enteros (reales) de igual tamaño."
      ],
      "metadata": {
        "id": "5UC7vhsh9IPs"
      }
    },
    {
      "cell_type": "code",
      "source": [
        "#Dos arreglos de igual tamaño\n",
        "x = [3, 5, 8, 6]\n",
        "y = [4, 5, 2, 7]\n",
        "\n",
        "producto_punto = 0\n",
        "\n",
        "# Calculamos el producto punto\n",
        "for i in range(len(x)):\n",
        "    producto_punto += x[i] * y[i]\n",
        "\n",
        "# Imprimimos el resultado\n",
        "print(\"El producto punto es:\", producto_punto)\n",
        ""
      ],
      "metadata": {
        "id": "26D-fX6z_eaF"
      },
      "execution_count": null,
      "outputs": []
    },
    {
      "cell_type": "markdown",
      "source": [
        "3. Hacer un algoritmo que deje al final de un arreglo de números todos los ceros que aparezcan en dicho arreglo."
      ],
      "metadata": {
        "id": "EyqcKbYGAOUl"
      }
    },
    {
      "cell_type": "code",
      "source": [
        "x = [1, 0, 1, 2, 0, 2, 3, 6, 9, 0, 2, 0] #Arreglo\n",
        "\n",
        "\n",
        "B = [] #Iniciar lista vacia\n",
        "for i in x: #Recorrer el arreglo y si es diferente de cero lo agrega en B\n",
        "    if(i!=0):\n",
        "      B.append(i)\n",
        "for j in x: #Recorre el arreglo y es cero lo coloca al final de B\n",
        "    if(j==0):\n",
        "      B.append(j)\n",
        "\n",
        "print(x) #Imrpime el arreglo\n",
        "print(B) #Imprime el arreglo con ceros al fianl"
      ],
      "metadata": {
        "colab": {
          "base_uri": "https://localhost:8080/"
        },
        "id": "FwLh0ENHAfmh",
        "outputId": "53a2fb24-372b-4972-bbdd-22c66d3814fe"
      },
      "execution_count": 2,
      "outputs": [
        {
          "output_type": "stream",
          "name": "stdout",
          "text": [
            "[1, 0, 1, 2, 0, 2, 3, 6, 9, 0, 2, 0]\n",
            "[1, 1, 2, 2, 3, 6, 9, 2, 0, 0, 0, 0]\n"
          ]
        }
      ]
    }
  ]
}